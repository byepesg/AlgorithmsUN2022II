{
  "nbformat": 4,
  "nbformat_minor": 0,
  "metadata": {
    "colab": {
      "provenance": [],
      "authorship_tag": "ABX9TyPICGcSy443/2p8Tx5QaFpy",
      "include_colab_link": true
    },
    "kernelspec": {
      "name": "python3",
      "display_name": "Python 3"
    },
    "language_info": {
      "name": "python"
    }
  },
  "cells": [
    {
      "cell_type": "markdown",
      "metadata": {
        "id": "view-in-github",
        "colab_type": "text"
      },
      "source": [
        "<a href=\"https://colab.research.google.com/github/byepesg/AlgorithmsUN2022II/blob/main/Lab3/byepesgcognitiveclassaapplieddatadciencewithpython.ipynb\" target=\"_parent\"><img src=\"https://colab.research.google.com/assets/colab-badge.svg\" alt=\"Open In Colab\"/></a>"
      ]
    },
    {
      "cell_type": "markdown",
      "source": [
        "# **Brayan Sebastián Yepes García**\n",
        "\n",
        "**usuario: byepesg**\n",
        "\n",
        "**Laboratorio 3**"
      ],
      "metadata": {
        "id": "gSn7pKMFQn8Y"
      }
    },
    {
      "cell_type": "markdown",
      "source": [
        "Data Visualization With Python\n",
        "\n",
        "https://courses.cognitiveclass.ai/certificates/206a565083e74874ac3197ad2eef20fe"
      ],
      "metadata": {
        "id": "FnxIAWThP2-5"
      }
    },
    {
      "cell_type": "markdown",
      "source": [
        "Data Analysis with Python\n",
        "\n",
        "https://courses.cognitiveclass.ai/certificates/0294907b55354ec09d2c12fa44f7442a"
      ],
      "metadata": {
        "id": "PG8huilaPxUU"
      }
    },
    {
      "cell_type": "markdown",
      "source": [
        "Python for Data Science\n",
        "\n",
        "https://courses.cognitiveclass.ai/certificates/4bb3aad8da23482395f15281ff009f58"
      ],
      "metadata": {
        "id": "Fq4yJeIXQJIK"
      }
    },
    {
      "cell_type": "markdown",
      "source": [
        "Linkedin\n",
        "\n",
        "https://co.linkedin.com/in/brayan-sebastian-yepes-garcia-100855174"
      ],
      "metadata": {
        "id": "j_3QWtHQQROQ"
      }
    }
  ]
}